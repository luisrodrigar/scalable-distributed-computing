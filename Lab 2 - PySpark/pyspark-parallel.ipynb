{
 "cells": [
  {
   "cell_type": "markdown",
   "metadata": {},
   "source": [
    "# Lab 2. Data Analytics Using PySpark\n",
    "## Scalable and Distributed Computing\n",
    "Sara Dovalo del Río, Alejandra Estrada Sanz and Luis Ángel Rodríguez García"
   ]
  },
  {
   "cell_type": "markdown",
   "metadata": {},
   "source": [
    "### Part I\n",
    "#### PySpark environment setup"
   ]
  },
  {
   "cell_type": "code",
   "execution_count": 60,
   "metadata": {},
   "outputs": [],
   "source": [
    "from pyspark.context import SparkContext\n",
    "from pyspark.sql.session import SparkSession\n",
    "from pyspark.sql.types import StructType, StructField\n",
    "from pyspark.sql.types import LongType, TimestampType, IntegerType, DoubleType, StringType\n",
    "from pyspark.sql.functions import when, count, col, countDistinct, desc, first, lit, to_date, max, min, mean, hour, dayofyear, dayofweek, month\n",
    "from IPython.display import display, Markdown\n",
    "import findspark\n",
    "\n",
    "findspark.init()\n",
    "\n",
    "sc = SparkContext.getOrCreate()\n",
    "spark = SparkSession(sc)\n",
    "\n",
    "seed_value = 100469000\n"
   ]
  },
  {
   "cell_type": "code",
   "execution_count": 61,
   "metadata": {},
   "outputs": [
    {
     "name": "stdout",
     "output_type": "stream",
     "text": [
      "root\n",
      " |-- VendorID: long (nullable = true)\n",
      " |-- tpep_pickup_datetime: timestamp (nullable = true)\n",
      " |-- tpep_dropoff_datetime: timestamp (nullable = true)\n",
      " |-- passenger_count: integer (nullable = true)\n",
      " |-- trip_distance: double (nullable = true)\n",
      " |-- rateCodeId: integer (nullable = true)\n",
      " |-- store_and_fwd_flag: string (nullable = true)\n",
      " |-- PULocationID: string (nullable = true)\n",
      " |-- DOLocationID: string (nullable = true)\n",
      " |-- payment_type: integer (nullable = true)\n",
      " |-- fare_amount: double (nullable = true)\n",
      " |-- extra: double (nullable = true)\n",
      " |-- mta_tax: double (nullable = true)\n",
      " |-- tip_amount: double (nullable = true)\n",
      " |-- tolls_amount: double (nullable = true)\n",
      " |-- improve_surcharge: double (nullable = true)\n",
      " |-- total_amount: double (nullable = true)\n",
      "\n"
     ]
    },
    {
     "data": {
      "text/markdown": [
       "This DataFrame has **1942420 rows**."
      ],
      "text/plain": [
       "<IPython.core.display.Markdown object>"
      ]
     },
     "metadata": {},
     "output_type": "display_data"
    }
   ],
   "source": [
    "custom_schema = StructType([StructField('VendorID', LongType(), False),\n",
    "                     StructField('tpep_pickup_datetime', TimestampType(), False),\n",
    "                     StructField('tpep_dropoff_datetime', TimestampType(), False),\n",
    "                     StructField('passenger_count', IntegerType(), False),\n",
    "                     StructField('trip_distance', DoubleType(), False),\n",
    "                     StructField('rateCodeId', IntegerType(), False),\n",
    "                     StructField('store_and_fwd_flag', StringType(), False),\n",
    "                     StructField('PULocationID', StringType(), False),\n",
    "                     StructField('DOLocationID', StringType(), False),         \n",
    "                     StructField('payment_type', IntegerType(), False),\n",
    "                     StructField('fare_amount', DoubleType(), False),\n",
    "                     StructField('extra', DoubleType(), False),\n",
    "                     StructField('mta_tax', DoubleType(), False),\n",
    "                     StructField('tip_amount', DoubleType(), False),\n",
    "                     StructField('tolls_amount', DoubleType(), False),\n",
    "                     StructField('improve_surcharge', DoubleType(), False),\n",
    "                     StructField('total_amount', DoubleType(), False)])\n",
    "\n",
    "cab_trips = spark.read \\\n",
    "                .schema(custom_schema) \\\n",
    "                .option('header', 'true') \\\n",
    "                .csv('data/*.csv')\n",
    "\n",
    "\n",
    "\n",
    "cab_trips.printSchema()\n",
    "display(Markdown(\"This DataFrame has **%d rows**.\" % (cab_trips.count())))"
   ]
  },
  {
   "cell_type": "markdown",
   "metadata": {},
   "source": [
    "We are going to use the method `cache` to do the optimization of the dataset in order to do the processing faster. Later on, we are going to generate a random sample of the ten percent of the rows without replacemant and select the two first rows."
   ]
  },
  {
   "cell_type": "code",
   "execution_count": 62,
   "metadata": {},
   "outputs": [
    {
     "name": "stderr",
     "output_type": "stream",
     "text": [
      "22/03/18 13:17:36 WARN CacheManager: Asked to cache already cached data.\n"
     ]
    },
    {
     "data": {
      "text/plain": [
       "<bound method DataFrame.take of DataFrame[VendorID: bigint, tpep_pickup_datetime: timestamp, tpep_dropoff_datetime: timestamp, passenger_count: int, trip_distance: double, rateCodeId: int, store_and_fwd_flag: string, PULocationID: string, DOLocationID: string, payment_type: int, fare_amount: double, extra: double, mta_tax: double, tip_amount: double, tolls_amount: double, improve_surcharge: double, total_amount: double]>"
      ]
     },
     "execution_count": 62,
     "metadata": {},
     "output_type": "execute_result"
    }
   ],
   "source": [
    "cab_trips.cache()\n",
    "cab_trips.sample(False, 0.1, seed_value).take"
   ]
  },
  {
   "cell_type": "markdown",
   "metadata": {},
   "source": [
    "As we can see above, pyspark implements lazy operations, that means that nothing is executed until some commands such as `take`, `collect` or `show` are executed."
   ]
  },
  {
   "cell_type": "markdown",
   "metadata": {},
   "source": [
    "#### Journey type analysis\n",
    "\n",
    "Now, we want to know more information about the journey data, what's the payment method used on the longest trip in average?"
   ]
  },
  {
   "cell_type": "code",
   "execution_count": 54,
   "metadata": {},
   "outputs": [
    {
     "name": "stdout",
     "output_type": "stream",
     "text": [
      "Dates from 2017-02-24 22:04:42 to 2017-01-01 00:00:00\n",
      "+------------+------------------+\n",
      "|payment_type| avg_trip_distance|\n",
      "+------------+------------------+\n",
      "|           1|2.9959558764164433|\n",
      "|           4| 2.775850239763924|\n",
      "|           3|2.7320917450586597|\n",
      "|           2|2.5783104527575085|\n",
      "+------------+------------------+\n",
      "\n",
      "The payment with the highest average distance is 1\n"
     ]
    }
   ],
   "source": [
    "t1 = cab_trips.agg(max('tpep_dropoff_datetime').alias('max_dropoff')).collect()[0]['max_dropoff']\n",
    "t2 = cab_trips.agg(min('tpep_dropoff_datetime').alias('min_dropoff')).collect()[0]['min_dropoff']\n",
    "print('Dates from {} to {}'.format(t1, t2))\n",
    "\n",
    "cab_trips_group = cab_trips.groupby('payment_type').agg(mean('trip_distance').alias('avg_trip_distance')).sort(col('avg_trip_distance').desc())\n",
    "cab_trips_group.show()\n",
    "payment_highest_distance =  cab_trips_group.first().payment_type\n",
    "print('The payment with the highest average distance is {}'.format(payment_highest_distance))"
   ]
  },
  {
   "cell_type": "markdown",
   "metadata": {},
   "source": [
    "#### Average distance during each part of the day \n",
    "\n",
    "In this case, what we want to know is the average distance depending on the part of the day: morning, afternoon, evening, night and late night."
   ]
  },
  {
   "cell_type": "code",
   "execution_count": 73,
   "metadata": {},
   "outputs": [
    {
     "name": "stdout",
     "output_type": "stream",
     "text": [
      "During mornings (from 7am to 9 am), the average distance is 2.53 miles\n",
      "During afternoon (from 12m and 4pm), the average distance is 2.80 miles\n",
      "During evening (from 4pm to 6pm), the average distance is 2.84 miles\n",
      "During nights (from 6pm to 12pm), the average distance is 2.88 miles\n",
      "During late nights (from 12pm to 7 am), the average distance 3.34 miles\n"
     ]
    }
   ],
   "source": [
    "time_results = cab_trips.withColumn('hour', hour(cab_trips.tpep_pickup_datetime)) \\\n",
    "                        .withColumn('day', dayofyear(cab_trips.tpep_pickup_datetime)) \\\n",
    "                        .withColumn('wday', dayofweek(cab_trips.tpep_pickup_datetime)) \\\n",
    "                        .withColumn('month', month(cab_trips.tpep_pickup_datetime))\n",
    "\n",
    "morning = time_results.filter((col('hour') >= 7) & (col('hour') <12))\n",
    "afternoon = time_results.filter((col('hour') >= 12) & (col('hour') <16))\n",
    "evening = time_results.filter((col('hour') >= 16) & (col('hour') <18))\n",
    "night = time_results.filter((col('hour') >= 18) & (col('hour') <=23))\n",
    "latenight = time_results.filter((col('hour') >= 0) & (col('hour') < 7))\n",
    "\n",
    "print(\"During mornings (from 7am to 9 am), the average distance is {:0.2f} miles\".format(morning.agg(mean('trip_distance').alias('avg_trip_distance')).first()['avg_trip_distance']))\n",
    "print(\"During afternoon (from 12m and 4pm), the average distance is {:0.2f} miles\".format(afternoon.agg(mean('trip_distance').alias('avg_trip_distance')).first()['avg_trip_distance']))\n",
    "print(\"During evening (from 4pm to 6pm), the average distance is {:0.2f} miles\".format(evening.agg(mean('trip_distance').alias('avg_trip_distance')).first()['avg_trip_distance']))\n",
    "print(\"During nights (from 6pm to 12pm), the average distance is {:0.2f} miles\".format(night.agg(mean('trip_distance').alias('avg_trip_distance')).first()['avg_trip_distance']))\n",
    "print(\"During late nights (from 12pm to 7 am), the average distance {:0.2f} miles\".format(latenight.agg(mean('trip_distance').alias('avg_trip_distance')).first()['avg_trip_distance']))"
   ]
  },
  {
   "cell_type": "markdown",
   "metadata": {},
   "source": [
    "#### Frequency of the number of passenger\n",
    "\n",
    "In this case, we want to know how many passengers in a trip are the most frequent."
   ]
  },
  {
   "cell_type": "code",
   "execution_count": 81,
   "metadata": {},
   "outputs": [
    {
     "data": {
      "image/png": "[encoded data removed]",
      "text/plain": [
       "<Figure size 432x288 with 1 Axes>"
      ]
     },
     "metadata": {
      "needs_background": "light"
     },
     "output_type": "display_data"
    }
   ],
   "source": [
    "import matplotlib.pyplot as plt\n",
    "\n",
    "passengers = cab_trips.groupBy('passenger_count') \\\n",
    "                      .agg(count('passenger_count') \\\n",
    "                      .alias(\"counts_passenger\")) \\\n",
    "                      .sort(col('counts_passenger').desc())\n",
    "data = passengers.toPandas()\n",
    "plt.bar(x=data['passenger_count'], height=data['counts_passenger'])\n",
    "plt.xlabel('Number of passengers')\n",
    "plt.ylabel('Frequency')\n",
    "plt.title('Frequency of passenger numbers')\n",
    "plt.show()"
   ]
  },
  {
   "cell_type": "markdown",
   "metadata": {},
   "source": [
    "#### Max trip distance based on the number of passengers\n",
    "\n",
    "In this case, we want to know the maximum distance of a trip based on the number of passengers"
   ]
  },
  {
   "cell_type": "code",
   "execution_count": 90,
   "metadata": {},
   "outputs": [
    {
     "data": {
      "text/plain": [
       "Text(0.5, 1.0, 'Max trip distance depending on the number of passengers')"
      ]
     },
     "execution_count": 90,
     "metadata": {},
     "output_type": "execute_result"
    },
    {
     "data": {
      "image/png": "[encoded data removed]",
      "text/plain": [
       "<Figure size 432x288 with 1 Axes>"
      ]
     },
     "metadata": {
      "needs_background": "light"
     },
     "output_type": "display_data"
    }
   ],
   "source": [
    "passenger_vs_distance = cab_trips.groupby('passenger_count').agg(max(col('trip_distance')).alias('max_trip_distance')).sort(col('passenger_count').asc())\n",
    "passenger_df = passenger_vs_distance.toPandas()\n",
    "passenger_df.plot(x='passenger_count', y='max_trip_distance')\n",
    "plt.ylabel(\"trip distance (miles)\")\n",
    "plt.title('Max trip distance depending on the number of passengers')"
   ]
  }
 ],
 "metadata": {
  "interpreter": {
   "hash": "b0fa6594d8f4cbf19f97940f81e996739fb7646882a419484c72d19e05852a7e"
  },
  "kernelspec": {
   "display_name": "Python 3.9.10 64-bit",
   "language": "python",
   "name": "python3"
  },
  "language_info": {
   "codemirror_mode": {
    "name": "ipython",
    "version": 3
   },
   "file_extension": ".py",
   "mimetype": "text/x-python",
   "name": "python",
   "nbconvert_exporter": "python",
   "pygments_lexer": "ipython3",
   "version": "3.9.10"
  },
  "orig_nbformat": 4
 },
 "nbformat": 4,
 "nbformat_minor": 2
}
